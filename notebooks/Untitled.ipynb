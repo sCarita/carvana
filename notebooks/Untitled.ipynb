{
 "cells": [
  {
   "cell_type": "code",
   "execution_count": 10,
   "metadata": {},
   "outputs": [
    {
     "ename": "RuntimeError",
     "evalue": "module compiled against API version 0xa but this version of numpy is 0x9",
     "output_type": "error",
     "traceback": [
      "\u001b[0;31m---------------------------------------------------------------------------\u001b[0m",
      "\u001b[0;31mRuntimeError\u001b[0m                              Traceback (most recent call last)",
      "\u001b[0;31mRuntimeError\u001b[0m: module compiled against API version 0xa but this version of numpy is 0x9"
     ]
    },
    {
     "ename": "ImportError",
     "evalue": "numpy.core.multiarray failed to import",
     "output_type": "error",
     "traceback": [
      "\u001b[0;31m---------------------------------------------------------------------------\u001b[0m",
      "\u001b[0;31mImportError\u001b[0m                               Traceback (most recent call last)",
      "\u001b[0;32m<ipython-input-10-20b9b38c80ed>\u001b[0m in \u001b[0;36m<module>\u001b[0;34m()\u001b[0m\n\u001b[1;32m      7\u001b[0m \u001b[0;32mimport\u001b[0m \u001b[0mglob\u001b[0m\u001b[0;34m\u001b[0m\u001b[0m\n\u001b[1;32m      8\u001b[0m \u001b[0;32mimport\u001b[0m \u001b[0mtime\u001b[0m\u001b[0;34m\u001b[0m\u001b[0m\n\u001b[0;32m----> 9\u001b[0;31m \u001b[0;32mimport\u001b[0m \u001b[0mcv2\u001b[0m\u001b[0;34m\u001b[0m\u001b[0m\n\u001b[0m\u001b[1;32m     10\u001b[0m \u001b[0;32mimport\u001b[0m \u001b[0mpandas\u001b[0m \u001b[0;32mas\u001b[0m \u001b[0mpd\u001b[0m\u001b[0;34m\u001b[0m\u001b[0m\n\u001b[1;32m     11\u001b[0m \u001b[0;32mimport\u001b[0m \u001b[0mrandom\u001b[0m\u001b[0;34m\u001b[0m\u001b[0m\n",
      "\u001b[0;31mImportError\u001b[0m: numpy.core.multiarray failed to import"
     ]
    }
   ],
   "source": [
    "# -*- coding: utf-8 -*-\n",
    "__author__ = 'ZFTurbo: https://kaggle.com/zfturbo'\n",
    "\n",
    "import numpy as np\n",
    "import gzip\n",
    "import os\n",
    "import glob\n",
    "import time\n",
    "import cv2\n",
    "import pandas as pd\n",
    "import random\n",
    "from PIL import Image\n",
    "\n",
    "random.seed(2017)\n",
    "np.random.seed(2017)\n",
    "\n",
    "NUM_OF_IMAGES_FROM_TRAIN = 600\n",
    "INPUT_PATH = '../data/'\n",
    "OUTPUT_PATH = './'\n",
    "\n",
    "\n",
    "def rle(img):\n",
    "    '''\n",
    "    img: numpy array, 1 - mask, 0 - background\n",
    "    Returns run length as string formated\n",
    "    '''\n",
    "    bytes = np.where(img.flatten() == 1)[0]\n",
    "    runs = []\n",
    "    prev = -2\n",
    "    for b in bytes:\n",
    "        if (b > prev + 1): runs.extend((b + 1, 0))\n",
    "        runs[-1] += 1\n",
    "        prev = b\n",
    "\n",
    "    return ' '.join([str(i) for i in runs])\n",
    "\n",
    "\n",
    "def dice(im1, im2, empty_score=1.0):\n",
    "    im1 = im1.astype(np.bool)\n",
    "    im2 = im2.astype(np.bool)\n",
    "\n",
    "    if im1.shape != im2.shape:\n",
    "        raise ValueError(\"Shape mismatch: im1 and im2 must have the same shape.\")\n",
    "\n",
    "    im_sum = im1.sum() + im2.sum()\n",
    "    if im_sum == 0:\n",
    "        return empty_score\n",
    "\n",
    "    intersection = np.logical_and(im1, im2)\n",
    "    return 2. * intersection.sum() / im_sum\n",
    "\n",
    "\n",
    "def get_score(train_masks, avg_mask, thr):\n",
    "    d = 0.0\n",
    "    for i in range(train_masks.shape[0]):\n",
    "        d += dice(train_masks[i], avg_mask)\n",
    "    return d/train_masks.shape[0]\n",
    "\n",
    "\n",
    "def validation_get_optimal_thr():\n",
    "    train_files = glob.glob(INPUT_PATH + 'train_masks/*.gif')[:NUM_OF_IMAGES_FROM_TRAIN]\n",
    "    train_masks = []\n",
    "    div_factor = 1\n",
    "\n",
    "    avg_mask = np.zeros((1280 // div_factor, 1918 // div_factor), dtype=np.float64)\n",
    "    print('AVG Mask shape: {}'.format(avg_mask.shape))\n",
    "    for f in train_files:\n",
    "        mask = np.array(Image.open(f), dtype=np.uint8)\n",
    "        if div_factor != 1:\n",
    "            mask = cv2.resize(mask, (mask.shape[1] // div_factor, mask.shape[0] // div_factor), cv2.INTER_LINEAR)\n",
    "        # print(mask.min(), mask.max(), mask.mean())\n",
    "        train_masks.append(mask)\n",
    "        avg_mask += mask.astype(np.float64)\n",
    "    avg_mask /= len(train_files)\n",
    "    train_masks = np.array(train_masks, dtype=np.uint8)\n",
    "    print(avg_mask.min(), avg_mask.max(), train_masks.shape)\n",
    "\n",
    "    best_score = 0\n",
    "    best_thr = -1\n",
    "    for t in range(370, 400):\n",
    "        thr = t/1000\n",
    "        avg_mask_thr = avg_mask.copy()\n",
    "        avg_mask_thr[avg_mask_thr > thr] = 1\n",
    "        avg_mask_thr[avg_mask_thr <= thr] = 0\n",
    "        score = get_score(train_masks, avg_mask_thr, thr)\n",
    "        print('THR: {:.3f} SCORE: {:.6f}'.format(thr, score))\n",
    "        if score > best_score:\n",
    "            best_score = score\n",
    "            best_thr = thr\n",
    "\n",
    "    print('Best score: {} Best thr: {}'.format(best_score, best_thr))\n",
    "    avg_mask_thr = avg_mask.copy()\n",
    "    avg_mask_thr[avg_mask_thr > best_thr] = 1\n",
    "    avg_mask_thr[avg_mask_thr <= best_thr] = 0\n",
    "    avg_mask_thr = cv2.resize(avg_mask_thr, (1918, 1280), cv2.INTER_LINEAR)\n",
    "    avg_mask_thr[avg_mask_thr > 0.5] = 1\n",
    "    avg_mask_thr[avg_mask_thr <= 0.5] = 0\n",
    "    print(avg_mask.shape, avg_mask_thr.shape)\n",
    "    cv2.imwrite('avg_mask.jpg', (255*avg_mask_thr).astype(np.uint8))\n",
    "\n",
    "    return best_score, avg_mask_thr\n",
    "\n",
    "\n",
    "def create_submission(best_score, avg_mask):\n",
    "    print('Create submission...')\n",
    "    t = pd.read_csv(INPUT_PATH + 'sample_submission.csv')\n",
    "    str = rle(avg_mask)\n",
    "    t['rle_mask'] = str\n",
    "    t.to_csv('subm_{}.gz'.format(best_score), index=False, compression='gzip')\n",
    "\n",
    "\n",
    "if __name__ == '__main__':\n",
    "    best_score, avg_mask = validation_get_optimal_thr()\n",
    "    create_submission(best_score, avg_mask)"
   ]
  },
  {
   "cell_type": "code",
   "execution_count": 8,
   "metadata": {},
   "outputs": [
    {
     "name": "stdout",
     "output_type": "stream",
     "text": [
      "<module 'numpy.version' from '/System/Library/Frameworks/Python.framework/Versions/2.7/Extras/lib/python/numpy/version.pyc'>\n"
     ]
    }
   ],
   "source": [
    "import numpy;print numpy.version"
   ]
  },
  {
   "cell_type": "code",
   "execution_count": null,
   "metadata": {
    "collapsed": true
   },
   "outputs": [],
   "source": []
  }
 ],
 "metadata": {
  "kernelspec": {
   "display_name": "Python 2",
   "language": "python",
   "name": "python2"
  },
  "language_info": {
   "codemirror_mode": {
    "name": "ipython",
    "version": 2
   },
   "file_extension": ".py",
   "mimetype": "text/x-python",
   "name": "python",
   "nbconvert_exporter": "python",
   "pygments_lexer": "ipython2",
   "version": "2.7.10"
  }
 },
 "nbformat": 4,
 "nbformat_minor": 2
}
