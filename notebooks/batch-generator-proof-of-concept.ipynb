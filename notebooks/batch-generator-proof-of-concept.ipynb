{
 "cells": [
  {
   "cell_type": "markdown",
   "metadata": {},
   "source": [
    "## TODO"
   ]
  },
  {
   "cell_type": "markdown",
   "metadata": {},
   "source": [
    "* Shuffle Samples before start get_batches [x]\n",
    "* Resize Mask Gif [ ]\n",
    "* Test Images, Mask and Product between both [ ]"
   ]
  },
  {
   "cell_type": "markdown",
   "metadata": {},
   "source": [
    "## Batch Generator"
   ]
  },
  {
   "cell_type": "code",
   "execution_count": 93,
   "metadata": {},
   "outputs": [],
   "source": [
    "import cv2\n",
    "import constants as c\n",
    "import glob\n",
    "import math\n",
    "import numpy as np\n",
    "import os\n",
    "\n",
    "from tqdm import tqdm\n",
    "from random import shuffle\n",
    "from PIL import Image\n",
    "\n",
    "class CarvanaBatchGenerator():\n",
    "    \n",
    "    def __init__(self, mode, batch_size, dims_area=None):\n",
    "        self.batch_size = batch_size\n",
    "        self.dims_area = dims_area or (96,96)\n",
    "\n",
    "        if mode is \"train\":\n",
    "            self.image_ids = c.train_ids\n",
    "            self.n_images = len(c.train_ids)\n",
    "            self.mode = 'Train'\n",
    "        elif mode is \"test\":\n",
    "            self.image_ids = c.test_ids\n",
    "            self.n_images = len(c.test_ids)\n",
    "            self.mode = 'Test'\n",
    "        else:\n",
    "            raise TypeError\n",
    "\n",
    "    def batches_per_epoch(self):\n",
    "        return int(self.n_images / self.batch_size)\n",
    "        \n",
    "    def get_batches(self):\n",
    "        shuffle(self.image_ids)\n",
    "    \n",
    "        for batch_ids in np.array_split(self.image_ids, self.batches_per_epoch()):\n",
    "            if self.mode is 'Train':\n",
    "                yield self._get_tuple_batch_train(batch_ids)\n",
    "            else:\n",
    "                print len(batch_ids)\n",
    "                yield self._get_tuple_batch_test(batch_ids)\n",
    "\n",
    "    def _get_tuple_batch_train(self, batch_ids):\n",
    "        batch_images = np.concatenate([ self.pre_processed_image(_id)[np.newaxis] for _id in batch_ids])\n",
    "        batch_masks = np.concatenate([ self.pre_processed_mask(_id)[np.newaxis] for _id in batch_ids])\n",
    "\n",
    "        return batch_images, batch_masks\n",
    "    \n",
    "    def _get_tuple_batch_test(self, batch_ids):\n",
    "        batch_images = np.concatenate([ self.pre_processed_image(_id)[np.newaxis] for _id in batch_ids])\n",
    "\n",
    "        return batch_images\n",
    "    \n",
    "    # Pre Processing Methods\n",
    "    def pre_processed_image(self, id_):\n",
    "        img = self._get_image_data(id_, self.mode)\n",
    "        TARGET_PIXEL_AREA = self.dims_area[0]*self.dims_area[1]\n",
    "\n",
    "        ratio = float(img.shape[1]) / float(img.shape[0])\n",
    "        new_h = int(math.sqrt(TARGET_PIXEL_AREA / ratio) + 0.5)\n",
    "        new_w = int((new_h * ratio) + 0.5)\n",
    "\n",
    "        img = cv2.resize(img, (new_w,new_h))\n",
    "        img = img/255\n",
    "        \n",
    "        return img\n",
    "    \n",
    "    def pre_processed_mask(self, id_):\n",
    "        return self._get_image_data(id_, self.mode+'_mask')\n",
    "    \n",
    "    # Private Methods\n",
    "    def _rle_encode(self, img):\n",
    "        pixels = img.flatten()\n",
    "        pixels[0] = 0\n",
    "        pixels[-1] = 0\n",
    "        runs = np.where(pixels[1:] != pixels[:-1])[0] + 2\n",
    "        runs[1::2] = runs[1::2] - runs[:-1:2]\n",
    "    \n",
    "        return ' '.join(str(x) for x in runs)\n",
    "    \n",
    "    def _rle_decode(self, mask_rle, shape):\n",
    "        s = mask_rle.split()\n",
    "        \n",
    "        starts, lengths = [np.asarray(x, dtype=int) for x in (s[0:][::2], s[1:][::2])]\n",
    "        starts -= 1\n",
    "        ends = starts + lengths\n",
    "        img = np.zeros(shape[0]*shape[1], dtype=np.uint8)\n",
    "        \n",
    "        for lo, hi in zip(starts, ends):\n",
    "            img[lo:hi] = 1\n",
    "        \n",
    "        return img.reshape(shape)\n",
    "    \n",
    "    def _get_filename(self, image_id, image_type):\n",
    "        check_dir = False\n",
    "        \n",
    "        if \"Train\" == image_type:\n",
    "            ext = 'jpg'\n",
    "            data_path = c.TRAIN_DATA\n",
    "            suffix = ''\n",
    "        elif \"Train_mask\" in image_type:\n",
    "            ext = 'gif'\n",
    "            data_path = c.TRAIN_MASKS_DATA\n",
    "            suffix = '_mask'\n",
    "        elif \"Test\" in image_type:\n",
    "            ext = 'jpg'\n",
    "            data_path = c.TEST_DATA\n",
    "            suffix = ''\n",
    "        else:\n",
    "            raise Exception(\"Image type '%s' is not recognized\" % image_type)\n",
    "\n",
    "        if check_dir and not os.path.exists(data_path):\n",
    "            os.makedirs(data_path)\n",
    "\n",
    "        return os.path.join(data_path, \"{}{}.{}\".format(image_id, suffix, ext))\n",
    "    \n",
    "    def _get_image_data(self, image_id, image_type, **kwargs):\n",
    "        if 'mask' in image_type:\n",
    "            img = self._get_image_data_pil(image_id, image_type, **kwargs)\n",
    "        else:\n",
    "            img = self._get_image_data_opencv(image_id, image_type, **kwargs)\n",
    "\n",
    "        return img\n",
    "    \n",
    "    def _get_image_data_opencv(self, image_id, image_type, **kwargs):\n",
    "        fname = self._get_filename(image_id, image_type)\n",
    "        img = cv2.imread(fname)\n",
    "        \n",
    "        assert img is not None, \"Failed to read image : %s, %s\" % (image_id, image_type)\n",
    "        \n",
    "        img = cv2.cvtColor(img, cv2.COLOR_BGR2RGB)\n",
    "        \n",
    "        return img\n",
    "    \n",
    "    def _get_image_data_pil(self, image_id, image_type, return_exif_md=False, return_shape_only=False):\n",
    "        fname = self._get_filename(image_id, image_type)\n",
    "        \n",
    "        try:\n",
    "            img_pil = Image.open(fname)\n",
    "        except Exception as e:\n",
    "            assert False, \"Failed to read image : %s, %s. Error message: %s\" % (image_id, image_type, e)\n",
    "\n",
    "        if return_shape_only:\n",
    "            return img_pil.size[::-1] + (len(img_pil.getbands()),)\n",
    "\n",
    "        img = np.asarray(img_pil)\n",
    "        \n",
    "        assert isinstance(img, np.ndarray), \"Open image is not an ndarray. Image id/type : %s, %s\" % (image_id, image_type)\n",
    "        \n",
    "        if not return_exif_md:\n",
    "            return img\n",
    "        else:\n",
    "            return img, img_pil._getexif()\n"
   ]
  },
  {
   "cell_type": "markdown",
   "metadata": {},
   "source": [
    "## Example of Batch Generator usage for Carvana"
   ]
  },
  {
   "cell_type": "code",
   "execution_count": 94,
   "metadata": {},
   "outputs": [
    {
     "name": "stdout",
     "output_type": "stream",
     "text": [
      "(8, 78, 117, 3) (8, 1280, 1918)\n",
      "8\n",
      "(78, 117, 3)\n"
     ]
    }
   ],
   "source": [
    "batch_size = 8\n",
    "bg = CarvanaBatchGenerator('train', batch_size, dims_area=(96,96))\n",
    "\n",
    "for gen in bg.get_batches():\n",
    "    print gen[0].shape, gen[1].shape\n",
    "    break\n",
    "    \n",
    "bg = CarvanaBatchGenerator('test', batch_size, dims_area=(96,96))\n",
    "\n",
    "for gen in bg.get_batches():\n",
    "    print gen[0].shape\n",
    "    break\n"
   ]
  },
  {
   "cell_type": "markdown",
   "metadata": {
    "collapsed": true
   },
   "source": [
    "## UNET Model in Keras"
   ]
  },
  {
   "cell_type": "code",
   "execution_count": 48,
   "metadata": {
    "collapsed": true
   },
   "outputs": [],
   "source": [
    "from keras.layers import Input, Conv2D, MaxPooling2D, Conv2DTranspose, concatenate\n",
    "import os\n",
    "from skimage.transform import resize\n",
    "from skimage.io import imsave\n",
    "import numpy as np\n",
    "from keras.models import Model\n",
    "from keras.layers import Input, concatenate, Conv2D, MaxPooling2D, Conv2DTranspose\n",
    "from keras.optimizers import Adam\n",
    "from keras.callbacks import ModelCheckpoint\n",
    "from keras import backend as K\n",
    "\n",
    "K.set_image_data_format('channels_last')  # TF dimension ordering in this code\n",
    "\n",
    "img_rows = 96\n",
    "img_cols = 96\n",
    "\n",
    "smooth = 1."
   ]
  },
  {
   "cell_type": "markdown",
   "metadata": {},
   "source": [
    "### Cost Function"
   ]
  },
  {
   "cell_type": "code",
   "execution_count": 49,
   "metadata": {
    "collapsed": true
   },
   "outputs": [],
   "source": [
    "def dice_coef(y_true, y_pred):\n",
    "    y_true_f = K.flatten(y_true)\n",
    "    y_pred_f = K.flatten(y_pred)\n",
    "    intersection = K.sum(y_true_f * y_pred_f)\n",
    "    return (2. * intersection + smooth) / (K.sum(y_true_f) + K.sum(y_pred_f) + smooth)\n",
    "\n",
    "\n",
    "def dice_coef_loss(y_true, y_pred):\n",
    "    return -dice_coef(y_true, y_pred)"
   ]
  },
  {
   "cell_type": "markdown",
   "metadata": {},
   "source": [
    "### Keras Model"
   ]
  },
  {
   "cell_type": "code",
   "execution_count": 50,
   "metadata": {
    "collapsed": true
   },
   "outputs": [],
   "source": [
    "def get_unet():\n",
    "    inputs = Input((img_rows, img_cols, 3))\n",
    "    conv1 = Conv2D(32, (3, 3), activation='relu', padding='same')(inputs)\n",
    "    conv1 = Conv2D(32, (3, 3), activation='relu', padding='same')(conv1)\n",
    "    pool1 = MaxPooling2D(pool_size=(2, 2))(conv1)\n",
    "\n",
    "    conv2 = Conv2D(64, (3, 3), activation='relu', padding='same')(pool1)\n",
    "    conv2 = Conv2D(64, (3, 3), activation='relu', padding='same')(conv2)\n",
    "    pool2 = MaxPooling2D(pool_size=(2, 2))(conv2)\n",
    "\n",
    "    conv3 = Conv2D(128, (3, 3), activation='relu', padding='same')(pool2)\n",
    "    conv3 = Conv2D(128, (3, 3), activation='relu', padding='same')(conv3)\n",
    "    pool3 = MaxPooling2D(pool_size=(2, 2))(conv3)\n",
    "\n",
    "    conv4 = Conv2D(256, (3, 3), activation='relu', padding='same')(pool3)\n",
    "    conv4 = Conv2D(256, (3, 3), activation='relu', padding='same')(conv4)\n",
    "    pool4 = MaxPooling2D(pool_size=(2, 2))(conv4)\n",
    "\n",
    "    conv5 = Conv2D(512, (3, 3), activation='relu', padding='same')(pool4)\n",
    "    conv5 = Conv2D(512, (3, 3), activation='relu', padding='same')(conv5)\n",
    "\n",
    "    up6 = concatenate([Conv2DTranspose(256, (2, 2), strides=(2, 2), padding='same')(conv5), conv4], axis=3)\n",
    "    conv6 = Conv2D(256, (3, 3), activation='relu', padding='same')(up6)\n",
    "    conv6 = Conv2D(256, (3, 3), activation='relu', padding='same')(conv6)\n",
    "\n",
    "    up7 = concatenate([Conv2DTranspose(128, (2, 2), strides=(2, 2), padding='same')(conv6), conv3], axis=3)\n",
    "    conv7 = Conv2D(128, (3, 3), activation='relu', padding='same')(up7)\n",
    "    conv7 = Conv2D(128, (3, 3), activation='relu', padding='same')(conv7)\n",
    "\n",
    "    up8 = concatenate([Conv2DTranspose(64, (2, 2), strides=(2, 2), padding='same')(conv7), conv2], axis=3)\n",
    "    conv8 = Conv2D(64, (3, 3), activation='relu', padding='same')(up8)\n",
    "    conv8 = Conv2D(64, (3, 3), activation='relu', padding='same')(conv8)\n",
    "\n",
    "    up9 = concatenate([Conv2DTranspose(32, (2, 2), strides=(2, 2), padding='same')(conv8), conv1], axis=3)\n",
    "    conv9 = Conv2D(32, (3, 3), activation='relu', padding='same')(up9)\n",
    "    conv9 = Conv2D(32, (3, 3), activation='relu', padding='same')(conv9)\n",
    "\n",
    "    conv10 = Conv2D(1, (1, 1), activation='sigmoid')(conv9)\n",
    "\n",
    "    model = Model(inputs=[inputs], outputs=[conv10])\n",
    "\n",
    "    model.compile(optimizer=Adam(lr=1e-5), loss=dice_coef_loss, metrics=[dice_coef])\n",
    "\n",
    "    return model"
   ]
  },
  {
   "cell_type": "markdown",
   "metadata": {},
   "source": [
    "### Visualizing the UNET"
   ]
  },
  {
   "cell_type": "code",
   "execution_count": 56,
   "metadata": {},
   "outputs": [
    {
     "name": "stdout",
     "output_type": "stream",
     "text": [
      "          InputLayer (None, 96, 96, 3)                                                                                                                                                                       \n",
      "              Conv2D (None, 96, 96, 32)                                                                                                                                                                      \n",
      "              Conv2D (None, 96, 96, 32)                                                                                                                                                                      \n",
      "        MaxPooling2D (None, 48, 48, 32)                                                                                                                                                                      \n",
      "              Conv2D (None, 48, 48, 64)            InputLayer (None, 96, 96, 3)                                                                                                                              \n",
      "              Conv2D (None, 48, 48, 64)                Conv2D (None, 96, 96, 32)                                                                                                                             \n",
      "        MaxPooling2D (None, 24, 24, 64)                Conv2D (None, 96, 96, 32)                                                                                                                             \n",
      "              Conv2D (None, 24, 24, 128)         MaxPooling2D (None, 48, 48, 32)                                                                                                                             \n",
      "              Conv2D (None, 24, 24, 128)               Conv2D (None, 48, 48, 64)                                                                                                                             \n",
      "        MaxPooling2D (None, 12, 12, 128)               Conv2D (None, 48, 48, 64)                                                                                                                             \n",
      "              Conv2D (None, 12, 12, 256)         MaxPooling2D (None, 24, 24, 64)                                                                                                                             \n",
      "              Conv2D (None, 12, 12, 256)               Conv2D (None, 24, 24, 128)                                                                                                                            \n",
      "        MaxPooling2D (None, 6, 6, 256)                 Conv2D (None, 24, 24, 128)                                                                                                                            \n",
      "              Conv2D (None, 6, 6, 512)           MaxPooling2D (None, 12, 12, 128)           InputLayer (None, 96, 96, 3)                                                                                     \n",
      "              Conv2D (None, 6, 6, 512)                 Conv2D (None, 12, 12, 256)               Conv2D (None, 96, 96, 32)                                                                                    \n",
      "     Conv2DTranspose (None, 12, 12, 256)               Conv2D (None, 12, 12, 256)               Conv2D (None, 96, 96, 32)                                                                                    \n",
      "                     \\______________________________________/                             MaxPooling2D (None, 48, 48, 32)                                                                                    \n",
      "                                        |                                                       Conv2D (None, 48, 48, 64)                                                                                    \n",
      "                             Concatenate (None, 12, 12, 512)                                    Conv2D (None, 48, 48, 64)                                                                                    \n",
      "                                  Conv2D (None, 12, 12, 256)                              MaxPooling2D (None, 24, 24, 64)                                                                                    \n",
      "                                  Conv2D (None, 12, 12, 256)                                    Conv2D (None, 24, 24, 128)                                                                                   \n",
      "                         Conv2DTranspose (None, 24, 24, 128)                                    Conv2D (None, 24, 24, 128)                                                                                   \n",
      "                                         \\___________________________________________________________/                               InputLayer (None, 96, 96, 3)                                            \n",
      "                                                             |                                                                           Conv2D (None, 96, 96, 32)                                           \n",
      "                                                  Concatenate (None, 24, 24, 256)                                                        Conv2D (None, 96, 96, 32)                                           \n",
      "                                                       Conv2D (None, 24, 24, 128)                                                  MaxPooling2D (None, 48, 48, 32)                                           \n",
      "                                                       Conv2D (None, 24, 24, 128)                                                        Conv2D (None, 48, 48, 64)                                           \n",
      "                                              Conv2DTranspose (None, 48, 48, 64)                                                         Conv2D (None, 48, 48, 64)                                           \n",
      "                                                              \\_______________________________________________________________________________/                                                              \n",
      "                                                                                 |                                                                                                                           \n",
      "                                                                      Concatenate (None, 48, 48, 128)                                                                                                        \n",
      "                                                                           Conv2D (None, 48, 48, 64)                                                                          InputLayer (None, 96, 96, 3)   \n",
      "                                                                           Conv2D (None, 48, 48, 64)                                                                              Conv2D (None, 96, 96, 32)  \n",
      "                                                                  Conv2DTranspose (None, 96, 96, 32)                                                                              Conv2D (None, 96, 96, 32)  \n",
      "                                                                                  \\____________________________________________________________________________________________________/                     \n",
      "                                                                                                      |                                                                                                      \n",
      "                                                                                           Concatenate (None, 96, 96, 64)                                                                                    \n",
      "                                                                                                Conv2D (None, 96, 96, 32)                                                                                    \n",
      "                                                                                                Conv2D (None, 96, 96, 32)                                                                                    \n",
      "                                                                                                Conv2D (None, 96, 96, 1)                                                                                     \n",
      "\n"
     ]
    }
   ],
   "source": [
    "from keras_diagram import ascii\n",
    "print(ascii(model))"
   ]
  },
  {
   "cell_type": "markdown",
   "metadata": {},
   "source": [
    "### Training the Model"
   ]
  },
  {
   "cell_type": "code",
   "execution_count": 53,
   "metadata": {},
   "outputs": [],
   "source": [
    "model = get_unet()\n",
    "model_checkpoint = ModelCheckpoint('weights.h5', monitor='val_loss', save_best_only=True)"
   ]
  },
  {
   "cell_type": "code",
   "execution_count": null,
   "metadata": {
    "collapsed": true
   },
   "outputs": [],
   "source": [
    "model.fit(imgs_train, imgs_mask_train, batch_size=4, nb_epoch=20, verbose=1, shuffle=True,\n",
    "          validation_split=0.2,\n",
    "          callbacks=[model_checkpoint])"
   ]
  },
  {
   "cell_type": "code",
   "execution_count": null,
   "metadata": {
    "collapsed": true
   },
   "outputs": [],
   "source": []
  }
 ],
 "metadata": {
  "kernelspec": {
   "display_name": "Python 2",
   "language": "python",
   "name": "python2"
  },
  "language_info": {
   "codemirror_mode": {
    "name": "ipython",
    "version": 2
   },
   "file_extension": ".py",
   "mimetype": "text/x-python",
   "name": "python",
   "nbconvert_exporter": "python",
   "pygments_lexer": "ipython2",
   "version": "2.7.10"
  }
 },
 "nbformat": 4,
 "nbformat_minor": 2
}
